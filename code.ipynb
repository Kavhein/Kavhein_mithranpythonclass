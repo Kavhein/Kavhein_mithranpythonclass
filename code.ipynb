{
  "nbformat": 4,
  "nbformat_minor": 0,
  "metadata": {
    "colab": {
      "name": "code.ipynb",
      "provenance": [],
      "collapsed_sections": [],
      "authorship_tag": "ABX9TyOJI4vFH3VoprIN6O0147RC",
      "include_colab_link": true
    },
    "kernelspec": {
      "name": "python3",
      "display_name": "Python 3"
    },
    "language_info": {
      "name": "python"
    }
  },
  "cells": [
    {
      "cell_type": "markdown",
      "metadata": {
        "id": "view-in-github",
        "colab_type": "text"
      },
      "source": [
        "<a href=\"https://colab.research.google.com/github/Kavhein/Kavhein_mithranpythonclass/blob/main/code.ipynb\" target=\"_parent\"><img src=\"https://colab.research.google.com/assets/colab-badge.svg\" alt=\"Open In Colab\"/></a>"
      ]
    },
    {
      "cell_type": "code",
      "metadata": {
        "colab": {
          "base_uri": "https://localhost:8080/"
        },
        "id": "O8ljk2C8N_0s",
        "outputId": "a62758f5-74ec-4d24-cf0b-6ed6997b126e"
      },
      "source": [
        "#this is my first programme \n",
        "\n",
        "a=int(6)\n",
        "b=int(4)\n",
        "print(a+b)\n",
        "\n",
        "#input a = 6\n",
        "#input b = 4\n",
        "#print(a+b)"
      ],
      "execution_count": null,
      "outputs": [
        {
          "output_type": "stream",
          "text": [
            "10\n"
          ],
          "name": "stdout"
        }
      ]
    },
    {
      "cell_type": "code",
      "metadata": {
        "colab": {
          "base_uri": "https://localhost:8080/"
        },
        "id": "zQCERfbUTLOU",
        "outputId": "31b88b3a-e1ac-4e1e-f222-5dc7d48a635f"
      },
      "source": [
        "#2nd programme\n",
        "a=int(input(\"Enter your first number: \"))\n",
        "b=int(input(\"Enter your second number: \"))\n",
        "\n",
        "print(a+b)\n",
        "\n",
        "print(a/b)\n",
        "\n",
        "print(a*b)\n",
        "\n",
        "print(a-b)"
      ],
      "execution_count": null,
      "outputs": [
        {
          "output_type": "stream",
          "text": [
            "Enter your first number: 1\n",
            "Enter your second number: 1\n",
            "2\n",
            "1.0\n",
            "1\n",
            "0\n"
          ],
          "name": "stdout"
        }
      ]
    },
    {
      "cell_type": "code",
      "metadata": {
        "colab": {
          "base_uri": "https://localhost:8080/"
        },
        "id": "ypyNtvh-WaLv",
        "outputId": "59e60f5e-dacd-47b3-dcdb-4bde08fa9f4f"
      },
      "source": [
        "#3rd programme 1. Write a program to find the area of circle and a sphere given \n",
        "#the radius as input\n",
        "#2. Modify the same program to find the respective volumes also\n",
        "\n",
        "k = 22/7\n",
        "b=int(input(\"𝐸𝓃𝓉𝑒𝓇 𝓉𝒽𝑒 𝓇𝒶𝒹𝒾𝓊𝓈 𝑜𝒻 𝓉𝒽𝑒 𝒸𝒾𝓇𝒸𝓁𝑒: \"))\n",
        "print(k*b*b) \n",
        "print(4*k*b*b)\n",
        "#1.formula for circle pi r^2\n",
        "#1.formula for area of a sphere 4 pi r^2\n",
        "#2.circle doesn't have volume \n",
        "#2.volume of sphere is 4/3 pi r*r*r\n",
        "print(4/3*k*b*b*b)\n"
      ],
      "execution_count": null,
      "outputs": [
        {
          "output_type": "stream",
          "text": [
            "𝐸𝓃𝓉𝑒𝓇 𝓉𝒽𝑒 𝓇𝒶𝒹𝒾𝓊𝓈 𝑜𝒻 𝓉𝒽𝑒 𝒸𝒾𝓇𝒸𝓁𝑒: 5\n",
            "78.57142857142857\n",
            "314.2857142857143\n",
            "523.8095238095237\n"
          ],
          "name": "stdout"
        }
      ]
    },
    {
      "cell_type": "code",
      "metadata": {
        "colab": {
          "base_uri": "https://localhost:8080/",
          "height": 648
        },
        "id": "AcckAa5qTVPH",
        "outputId": "fb453fd7-809d-4054-ea44-2fe89c58d37e"
      },
      "source": [
        "# Program make a simple calculator\n",
        "\n",
        "# This function adds two numbers\n",
        "''' A return statement is used to end the execution of the \n",
        "function call and “returns” the result (value of the expression \n",
        "following the return keyword) to the caller'''\n",
        "\n",
        "def add(x, y):\n",
        "    return x + y\n",
        "\n",
        "# This function subtracts two numbers\n",
        "def subtract(x, y):\n",
        "    return x - y\n",
        "\n",
        "# This function multiplies two numbers\n",
        "def multiply(x, y):\n",
        "    return x * y\n",
        "\n",
        "# This function divides two numbers\n",
        "def divide(x, y):\n",
        "    return x / y\n",
        "\n",
        "\n",
        "print(\"Select operation.\")\n",
        "print(\"1.Add\")\n",
        "print(\"2.Subtract\")\n",
        "print(\"3.Multiply\")\n",
        "print(\"4.Divide\")\n",
        "\n",
        "while True:\n",
        "    # Take input from the user\n",
        "    choice = input(\"Enter choice(1/2/3/4): \")\n",
        "\n",
        "    # Check if choice is one of the four options\n",
        "    if choice in ('1', '2', '3', '4'):\n",
        "        a = float(input(\"Enter first number: \"))\n",
        "        b = float(input(\"Enter second number: \"))\n",
        "\n",
        "        if choice == '1':\n",
        "            print(a, \"+\", b, \"=\", add(a, b))\n",
        "\n",
        "        elif choice == '2':\n",
        "            print(a, \"-\", b, \"=\", subtract(a, b))\n",
        "\n",
        "        elif choice == '3':\n",
        "            print(a, \"*\", b, \"=\", multiply(a, b))\n",
        "\n",
        "        elif choice == '4':\n",
        "            print(a, \"/\", b, \"=\", divide(a, b))\n",
        "        break\n",
        "    else:\n",
        "        print(\"INVALID INPUT CHOOSE BETWEEN 1-4 ONLY!!\")\n"
      ],
      "execution_count": null,
      "outputs": [
        {
          "output_type": "stream",
          "text": [
            "Select operation.\n",
            "1.Add\n",
            "2.Subtract\n",
            "3.Multiply\n",
            "4.Divide\n",
            "Enter choice(1/2/3/4): 2\n"
          ],
          "name": "stdout"
        },
        {
          "output_type": "error",
          "ename": "KeyboardInterrupt",
          "evalue": "ignored",
          "traceback": [
            "\u001b[0;31m---------------------------------------------------------------------------\u001b[0m",
            "\u001b[0;31mKeyboardInterrupt\u001b[0m                         Traceback (most recent call last)",
            "\u001b[0;32m/usr/local/lib/python3.7/dist-packages/ipykernel/kernelbase.py\u001b[0m in \u001b[0;36m_input_request\u001b[0;34m(self, prompt, ident, parent, password)\u001b[0m\n\u001b[1;32m    728\u001b[0m             \u001b[0;32mtry\u001b[0m\u001b[0;34m:\u001b[0m\u001b[0;34m\u001b[0m\u001b[0;34m\u001b[0m\u001b[0m\n\u001b[0;32m--> 729\u001b[0;31m                 \u001b[0mident\u001b[0m\u001b[0;34m,\u001b[0m \u001b[0mreply\u001b[0m \u001b[0;34m=\u001b[0m \u001b[0mself\u001b[0m\u001b[0;34m.\u001b[0m\u001b[0msession\u001b[0m\u001b[0;34m.\u001b[0m\u001b[0mrecv\u001b[0m\u001b[0;34m(\u001b[0m\u001b[0mself\u001b[0m\u001b[0;34m.\u001b[0m\u001b[0mstdin_socket\u001b[0m\u001b[0;34m,\u001b[0m \u001b[0;36m0\u001b[0m\u001b[0;34m)\u001b[0m\u001b[0;34m\u001b[0m\u001b[0;34m\u001b[0m\u001b[0m\n\u001b[0m\u001b[1;32m    730\u001b[0m             \u001b[0;32mexcept\u001b[0m \u001b[0mException\u001b[0m\u001b[0;34m:\u001b[0m\u001b[0;34m\u001b[0m\u001b[0;34m\u001b[0m\u001b[0m\n",
            "\u001b[0;32m/usr/local/lib/python3.7/dist-packages/jupyter_client/session.py\u001b[0m in \u001b[0;36mrecv\u001b[0;34m(self, socket, mode, content, copy)\u001b[0m\n\u001b[1;32m    802\u001b[0m         \u001b[0;32mtry\u001b[0m\u001b[0;34m:\u001b[0m\u001b[0;34m\u001b[0m\u001b[0;34m\u001b[0m\u001b[0m\n\u001b[0;32m--> 803\u001b[0;31m             \u001b[0mmsg_list\u001b[0m \u001b[0;34m=\u001b[0m \u001b[0msocket\u001b[0m\u001b[0;34m.\u001b[0m\u001b[0mrecv_multipart\u001b[0m\u001b[0;34m(\u001b[0m\u001b[0mmode\u001b[0m\u001b[0;34m,\u001b[0m \u001b[0mcopy\u001b[0m\u001b[0;34m=\u001b[0m\u001b[0mcopy\u001b[0m\u001b[0;34m)\u001b[0m\u001b[0;34m\u001b[0m\u001b[0;34m\u001b[0m\u001b[0m\n\u001b[0m\u001b[1;32m    804\u001b[0m         \u001b[0;32mexcept\u001b[0m \u001b[0mzmq\u001b[0m\u001b[0;34m.\u001b[0m\u001b[0mZMQError\u001b[0m \u001b[0;32mas\u001b[0m \u001b[0me\u001b[0m\u001b[0;34m:\u001b[0m\u001b[0;34m\u001b[0m\u001b[0;34m\u001b[0m\u001b[0m\n",
            "\u001b[0;32m/usr/local/lib/python3.7/dist-packages/zmq/sugar/socket.py\u001b[0m in \u001b[0;36mrecv_multipart\u001b[0;34m(self, flags, copy, track)\u001b[0m\n\u001b[1;32m    582\u001b[0m         \"\"\"\n\u001b[0;32m--> 583\u001b[0;31m         \u001b[0mparts\u001b[0m \u001b[0;34m=\u001b[0m \u001b[0;34m[\u001b[0m\u001b[0mself\u001b[0m\u001b[0;34m.\u001b[0m\u001b[0mrecv\u001b[0m\u001b[0;34m(\u001b[0m\u001b[0mflags\u001b[0m\u001b[0;34m,\u001b[0m \u001b[0mcopy\u001b[0m\u001b[0;34m=\u001b[0m\u001b[0mcopy\u001b[0m\u001b[0;34m,\u001b[0m \u001b[0mtrack\u001b[0m\u001b[0;34m=\u001b[0m\u001b[0mtrack\u001b[0m\u001b[0;34m)\u001b[0m\u001b[0;34m]\u001b[0m\u001b[0;34m\u001b[0m\u001b[0;34m\u001b[0m\u001b[0m\n\u001b[0m\u001b[1;32m    584\u001b[0m         \u001b[0;31m# have first part already, only loop while more to receive\u001b[0m\u001b[0;34m\u001b[0m\u001b[0;34m\u001b[0m\u001b[0;34m\u001b[0m\u001b[0m\n",
            "\u001b[0;32mzmq/backend/cython/socket.pyx\u001b[0m in \u001b[0;36mzmq.backend.cython.socket.Socket.recv\u001b[0;34m()\u001b[0m\n",
            "\u001b[0;32mzmq/backend/cython/socket.pyx\u001b[0m in \u001b[0;36mzmq.backend.cython.socket.Socket.recv\u001b[0;34m()\u001b[0m\n",
            "\u001b[0;32mzmq/backend/cython/socket.pyx\u001b[0m in \u001b[0;36mzmq.backend.cython.socket._recv_copy\u001b[0;34m()\u001b[0m\n",
            "\u001b[0;32m/usr/local/lib/python3.7/dist-packages/zmq/backend/cython/checkrc.pxd\u001b[0m in \u001b[0;36mzmq.backend.cython.checkrc._check_rc\u001b[0;34m()\u001b[0m\n",
            "\u001b[0;31mKeyboardInterrupt\u001b[0m: ",
            "\nDuring handling of the above exception, another exception occurred:\n",
            "\u001b[0;31mKeyboardInterrupt\u001b[0m                         Traceback (most recent call last)",
            "\u001b[0;32m<ipython-input-16-f92abf3f24a4>\u001b[0m in \u001b[0;36m<module>\u001b[0;34m()\u001b[0m\n\u001b[1;32m     34\u001b[0m     \u001b[0;31m# Check if choice is one of the four options\u001b[0m\u001b[0;34m\u001b[0m\u001b[0;34m\u001b[0m\u001b[0;34m\u001b[0m\u001b[0m\n\u001b[1;32m     35\u001b[0m     \u001b[0;32mif\u001b[0m \u001b[0mchoice\u001b[0m \u001b[0;32min\u001b[0m \u001b[0;34m(\u001b[0m\u001b[0;34m'1'\u001b[0m\u001b[0;34m,\u001b[0m \u001b[0;34m'2'\u001b[0m\u001b[0;34m,\u001b[0m \u001b[0;34m'3'\u001b[0m\u001b[0;34m,\u001b[0m \u001b[0;34m'4'\u001b[0m\u001b[0;34m)\u001b[0m\u001b[0;34m:\u001b[0m\u001b[0;34m\u001b[0m\u001b[0;34m\u001b[0m\u001b[0m\n\u001b[0;32m---> 36\u001b[0;31m         \u001b[0ma\u001b[0m \u001b[0;34m=\u001b[0m \u001b[0mfloat\u001b[0m\u001b[0;34m(\u001b[0m\u001b[0minput\u001b[0m\u001b[0;34m(\u001b[0m\u001b[0;34m\"Enter first number: \"\u001b[0m\u001b[0;34m)\u001b[0m\u001b[0;34m)\u001b[0m\u001b[0;34m\u001b[0m\u001b[0;34m\u001b[0m\u001b[0m\n\u001b[0m\u001b[1;32m     37\u001b[0m         \u001b[0mb\u001b[0m \u001b[0;34m=\u001b[0m \u001b[0mfloat\u001b[0m\u001b[0;34m(\u001b[0m\u001b[0minput\u001b[0m\u001b[0;34m(\u001b[0m\u001b[0;34m\"Enter second number: \"\u001b[0m\u001b[0;34m)\u001b[0m\u001b[0;34m)\u001b[0m\u001b[0;34m\u001b[0m\u001b[0;34m\u001b[0m\u001b[0m\n\u001b[1;32m     38\u001b[0m \u001b[0;34m\u001b[0m\u001b[0m\n",
            "\u001b[0;32m/usr/local/lib/python3.7/dist-packages/ipykernel/kernelbase.py\u001b[0m in \u001b[0;36mraw_input\u001b[0;34m(self, prompt)\u001b[0m\n\u001b[1;32m    702\u001b[0m             \u001b[0mself\u001b[0m\u001b[0;34m.\u001b[0m\u001b[0m_parent_ident\u001b[0m\u001b[0;34m,\u001b[0m\u001b[0;34m\u001b[0m\u001b[0;34m\u001b[0m\u001b[0m\n\u001b[1;32m    703\u001b[0m             \u001b[0mself\u001b[0m\u001b[0;34m.\u001b[0m\u001b[0m_parent_header\u001b[0m\u001b[0;34m,\u001b[0m\u001b[0;34m\u001b[0m\u001b[0;34m\u001b[0m\u001b[0m\n\u001b[0;32m--> 704\u001b[0;31m             \u001b[0mpassword\u001b[0m\u001b[0;34m=\u001b[0m\u001b[0;32mFalse\u001b[0m\u001b[0;34m,\u001b[0m\u001b[0;34m\u001b[0m\u001b[0;34m\u001b[0m\u001b[0m\n\u001b[0m\u001b[1;32m    705\u001b[0m         )\n\u001b[1;32m    706\u001b[0m \u001b[0;34m\u001b[0m\u001b[0m\n",
            "\u001b[0;32m/usr/local/lib/python3.7/dist-packages/ipykernel/kernelbase.py\u001b[0m in \u001b[0;36m_input_request\u001b[0;34m(self, prompt, ident, parent, password)\u001b[0m\n\u001b[1;32m    732\u001b[0m             \u001b[0;32mexcept\u001b[0m \u001b[0mKeyboardInterrupt\u001b[0m\u001b[0;34m:\u001b[0m\u001b[0;34m\u001b[0m\u001b[0;34m\u001b[0m\u001b[0m\n\u001b[1;32m    733\u001b[0m                 \u001b[0;31m# re-raise KeyboardInterrupt, to truncate traceback\u001b[0m\u001b[0;34m\u001b[0m\u001b[0;34m\u001b[0m\u001b[0;34m\u001b[0m\u001b[0m\n\u001b[0;32m--> 734\u001b[0;31m                 \u001b[0;32mraise\u001b[0m \u001b[0mKeyboardInterrupt\u001b[0m\u001b[0;34m\u001b[0m\u001b[0;34m\u001b[0m\u001b[0m\n\u001b[0m\u001b[1;32m    735\u001b[0m             \u001b[0;32melse\u001b[0m\u001b[0;34m:\u001b[0m\u001b[0;34m\u001b[0m\u001b[0;34m\u001b[0m\u001b[0m\n\u001b[1;32m    736\u001b[0m                 \u001b[0;32mbreak\u001b[0m\u001b[0;34m\u001b[0m\u001b[0;34m\u001b[0m\u001b[0m\n",
            "\u001b[0;31mKeyboardInterrupt\u001b[0m: "
          ]
        }
      ]
    },
    {
      "cell_type": "code",
      "metadata": {
        "colab": {
          "base_uri": "https://localhost:8080/"
        },
        "id": "G_v0tG_3kWvA",
        "outputId": "1f920235-5746-48c4-9abf-7b4ebcfdbc98"
      },
      "source": [
        "\n",
        "\n",
        "a = \"              the imparting or exchanging of information by speaking, writing, or using some other medium\"\n",
        "x = a.capitalize()\n",
        "print(x)\n",
        "\n",
        "y = a.find(\"i\")\n",
        "print(y)\n",
        "\n",
        "z = a.count(\"t\")\n",
        "print(z)\n",
        "\n",
        "p = a.center(50)\n",
        "print(p)\n",
        "\n",
        "q = a.split(\" \")\n",
        "print(q)\n",
        "\n",
        "k = a.strip()\n",
        "print(k)"
      ],
      "execution_count": null,
      "outputs": [
        {
          "output_type": "stream",
          "text": [
            "              the imparting or exchanging of information by speaking, writing, or using some other medium\n",
            "18\n",
            "5\n",
            "              the imparting or exchanging of information by speaking, writing, or using some other medium\n",
            "['', '', '', '', '', '', '', '', '', '', '', '', '', '', 'the', 'imparting', 'or', 'exchanging', 'of', 'information', 'by', 'speaking,', 'writing,', 'or', 'using', 'some', 'other', 'medium']\n",
            "the imparting or exchanging of information by speaking, writing, or using some other medium\n"
          ],
          "name": "stdout"
        }
      ]
    },
    {
      "cell_type": "code",
      "metadata": {
        "id": "ucuVUHO7z-PR"
      },
      "source": [
        "#write a program to check if a given number is even\n",
        "#algorithms\n",
        "#get the number \n",
        "#divide by 2\n",
        "#check the remainder \n",
        "#if remainder=0 print\"given number is even\"\n",
        "#else print \"given number is odd\" "
      ],
      "execution_count": null,
      "outputs": []
    },
    {
      "cell_type": "code",
      "metadata": {
        "colab": {
          "base_uri": "https://localhost:8080/"
        },
        "id": "Es4qfkd2ChLU",
        "outputId": "460704d0-90a2-4026-c982-cccdbcf33cb1"
      },
      "source": [
        "# % indicates Remainder\n",
        "# / indicates Quotient\n",
        "a=int(input(\"Enter your number:\"))\n",
        "if (a%3==0):\n",
        "    print(\"{} is divisible by 3\".format(a))\n",
        "else:\n",
        "    print(\"{} is not divisible by 3\".format(a))"
      ],
      "execution_count": null,
      "outputs": [
        {
          "output_type": "stream",
          "text": [
            "Enter your number:3\n",
            "3 is divisible by 3\n"
          ],
          "name": "stdout"
        }
      ]
    },
    {
      "cell_type": "code",
      "metadata": {
        "colab": {
          "base_uri": "https://localhost:8080/"
        },
        "id": "LQbA541USvD6",
        "outputId": "b7f913ef-0e21-4900-f2e5-85ade52ca623"
      },
      "source": [
        "\"\"\"to check if the given \n",
        "5 numbers are divisible \n",
        "by 3 or not \"\"\"\n",
        "\n",
        "a=int(input(\"enter the number:\"))\n",
        "b=int(input(\"enter the number:\"))\n",
        "c=int(input(\"enter the number:\"))\n",
        "d=int(input(\"enter the number:\"))\n",
        "e=int(input(\"enter the number:\"))\n",
        "\n",
        "#function\n",
        "\n",
        "def divisibility_check(k):\n",
        "  if (k%3==0):\n",
        "    print(str(k) + \" is divisible by 3\")\n",
        "  else:\n",
        "      print(str(k) + \" is not divisible by 3\")\n",
        "\n",
        "divisibility_check(a)\n",
        "divisibility_check(b)\n",
        "divisibility_check(c)\n",
        "divisibility_check(d)\n",
        "divisibility_check(e)\n"
      ],
      "execution_count": null,
      "outputs": [
        {
          "output_type": "stream",
          "text": [
            "enter the number:3\n",
            "enter the number:6\n",
            "enter the number:9\n",
            "enter the number:1\n",
            "enter the number:4\n",
            "3 is divisible by 3\n",
            "6 is divisible by 3\n",
            "9 is divisible by 3\n",
            "1 is not divisible by 3\n",
            "4 is not divisible by 3\n"
          ],
          "name": "stdout"
        }
      ]
    },
    {
      "cell_type": "code",
      "metadata": {
        "id": "ZNaLpZ3ydgk-"
      },
      "source": [
        "\"\"\"to check if the given \n",
        "5 numbers are divisible \n",
        "by 3 or 2 \"\"\"\n",
        "\n",
        "a=int(input(\"enter the number:\"))\n",
        "b=int(input(\"enter the number:\"))\n",
        "c=int(input(\"enter the number:\"))\n",
        "d=int(input(\"enter the number:\"))\n",
        "e=int(input(\"enter the number:\"))\n",
        "\n",
        "def divisibility_check_3 (k):\n",
        "  if (k%3==0):\n",
        "    print(str(k) + \" is divisible by 3\")\n",
        "  else:\n",
        "    print(str(k) + \" is not divisible by 3\")\n",
        "\n",
        "def divisibility_check_2 (l):\n",
        "  if (l%2==0):\n",
        "    print(str(l) + \" is divisible by 2\")\n",
        "  else:\n",
        "    print(str(l) + \" is not divisible by 2\")\n",
        "\n",
        "divisibility_check_3(a)\n",
        "divisibility_check_3(b)\n",
        "divisibility_check_3(c)\n",
        "divisibility_check_3(d)\n",
        "divisibility_check_3(e)\n",
        "\n",
        "divisibility_check_2(a)\n",
        "divisibility_check_2(b)\n",
        "divisibility_check_2(c)\n",
        "divisibility_check_2(d)\n",
        "divisibility_check_2(e)"
      ],
      "execution_count": null,
      "outputs": []
    },
    {
      "cell_type": "code",
      "metadata": {
        "colab": {
          "base_uri": "https://localhost:8080/"
        },
        "id": "wjkb2emYiXDn",
        "outputId": "189cfe63-8d06-49e4-ad32-ce32b2736c29"
      },
      "source": [
        "for i in range(1,7):\n",
        "  a = int(input(\"Enter the number for i in range(1,7):\"))\n",
        "  \n",
        "  if (a%2 == 0 ):\n",
        "    print(str(a)+ \" is divisible by 2\")\n",
        "  else:\n",
        "    print(str(a)+ \" is NOT divisible by 2\")\n",
        "\n",
        "\n",
        "  if (a%3 == 0 ):\n",
        "    print(str(a)+ \" is divisible by 3\")\n",
        "  else:\n",
        "    print(str(a)+ \" is NOT divisible by 3\")\n",
        "\n",
        "\n",
        "  if (a%5 == 0 ):\n",
        "    print(str(a)+ \" is divisible by 5\")\n",
        "  else:\n",
        "    print(str(a)+ \" is NOT divisible by 5\")\n",
        "\n",
        "\n",
        "  if (a%7 == 0 ):\n",
        "    print(str(a)+ \" is divisible by 7\")\n",
        "  else:\n",
        "    print(str(a)+ \" is NOT divisible by 7\")\n",
        "\n",
        "\n",
        "  if (a%11 == 0 ):\n",
        "    print(str(a)+ \" is divisible by 11\")\n",
        "  else:\n",
        "    print(str(a)+ \" is NOT divisible by 11\")\n",
        "\n",
        "\n",
        "  if (a%13 == 0 ):\n",
        "    print(str(a)+ \" is divisible by 13\")\n",
        "  else:\n",
        "    print(str(a)+ \" is NOT divisible by 13\")\n"
      ],
      "execution_count": null,
      "outputs": [
        {
          "output_type": "stream",
          "text": [
            "Enter the number for i in range(1,7):1\n",
            "1 is NOT divisible by 2\n",
            "1 is NOT divisible by 3\n",
            "1 is NOT divisible by 5\n",
            "1 is NOT divisible by 7\n",
            "1 is NOT divisible by 11\n",
            "1 is NOT divisible by 13\n",
            "Enter the number for i in range(1,7):2\n",
            "2 is divisible by 2\n",
            "2 is NOT divisible by 3\n",
            "2 is NOT divisible by 5\n",
            "2 is NOT divisible by 7\n",
            "2 is NOT divisible by 11\n",
            "2 is NOT divisible by 13\n",
            "Enter the number for i in range(1,7):3\n",
            "3 is NOT divisible by 2\n",
            "3 is divisible by 3\n",
            "3 is NOT divisible by 5\n",
            "3 is NOT divisible by 7\n",
            "3 is NOT divisible by 11\n",
            "3 is NOT divisible by 13\n",
            "Enter the number for i in range(1,7):4\n",
            "4 is divisible by 2\n",
            "4 is NOT divisible by 3\n",
            "4 is NOT divisible by 5\n",
            "4 is NOT divisible by 7\n",
            "4 is NOT divisible by 11\n",
            "4 is NOT divisible by 13\n",
            "Enter the number for i in range(1,7):5\n",
            "5 is NOT divisible by 2\n",
            "5 is NOT divisible by 3\n",
            "5 is divisible by 5\n",
            "5 is NOT divisible by 7\n",
            "5 is NOT divisible by 11\n",
            "5 is NOT divisible by 13\n",
            "Enter the number for i in range(1,7):6\n",
            "6 is divisible by 2\n",
            "6 is divisible by 3\n",
            "6 is NOT divisible by 5\n",
            "6 is NOT divisible by 7\n",
            "6 is NOT divisible by 11\n",
            "6 is NOT divisible by 13\n"
          ],
          "name": "stdout"
        }
      ]
    },
    {
      "cell_type": "code",
      "metadata": {
        "colab": {
          "base_uri": "https://localhost:8080/"
        },
        "id": "EbsQhZOl67BN",
        "outputId": "d071dcfe-5f51-4bbe-de03-e9d4126de238"
      },
      "source": [
        "\"\"\"list program\"\"\"\n",
        "\n",
        "fruitsbasket = [\"banana\",\"mango\",\"orange\",\"guava\",\"pineapple\"]\n",
        "fruitsbasket.remove(\"pineapple\")\n",
        "fruitsbasket.append(\"tomato\")\n",
        "fruitsbasket.insert(0,\"sugarcane\")\n",
        "fruitsbasket.sort()\n",
        "print(fruitsbasket)\n"
      ],
      "execution_count": null,
      "outputs": [
        {
          "output_type": "stream",
          "text": [
            "['banana', 'guava', 'mango', 'orange', 'sugarcane', 'tomato']\n"
          ],
          "name": "stdout"
        }
      ]
    },
    {
      "cell_type": "code",
      "metadata": {
        "colab": {
          "base_uri": "https://localhost:8080/"
        },
        "id": "3jzuOWqs9wDT",
        "outputId": "32413db2-eb85-4316-f257-60103ff7849a"
      },
      "source": [
        "#tuple\n",
        "fruits=(\"banana\",\"mango\",\"orange\",\"guava\",\"pineapple\")\n",
        "student=[(\"kavhein\",\"maths\",\"85\"),(\"aravindh\",\"maths\",\"90\")]\n",
        "print(fruits)\n",
        "print(student)\n"
      ],
      "execution_count": null,
      "outputs": [
        {
          "output_type": "stream",
          "text": [
            "('banana', 'mango', 'orange', 'guava', 'pineapple')\n",
            "[('kavhein', 'maths', '85'), ('aravindh', 'maths', '90')]\n"
          ],
          "name": "stdout"
        }
      ]
    },
    {
      "cell_type": "code",
      "metadata": {
        "colab": {
          "base_uri": "https://localhost:8080/"
        },
        "id": "Um99cHC0AD9Z",
        "outputId": "22441398-d142-42d5-9220-74cc19ca40e6"
      },
      "source": [
        "#set\n",
        "fruits = {\"banana\",\"mango\",\"orange\",\"guava\",\"banana\"}\n",
        "print(fruits)"
      ],
      "execution_count": null,
      "outputs": [
        {
          "output_type": "stream",
          "text": [
            "{'orange', 'banana', 'mango', 'guava'}\n"
          ],
          "name": "stdout"
        }
      ]
    },
    {
      "cell_type": "code",
      "metadata": {
        "colab": {
          "base_uri": "https://localhost:8080/"
        },
        "id": "6pbx46dJBHT4",
        "outputId": "e88aedc7-56b1-4e87-f549-7a6a837973e4"
      },
      "source": [
        "#dictionary\n",
        "student={\"name\":\"Kavhein\",\"Subject\":\"maths\",\"marks\":\"99\"}\n",
        "print(student)"
      ],
      "execution_count": null,
      "outputs": [
        {
          "output_type": "stream",
          "text": [
            "{'name': 'Kavhein', 'Subject': 'maths', 'marks': '99'}\n"
          ],
          "name": "stdout"
        }
      ]
    },
    {
      "cell_type": "code",
      "metadata": {
        "colab": {
          "base_uri": "https://localhost:8080/"
        },
        "id": "28Vhori5CSXC",
        "outputId": "55e673cb-6cc3-4215-d5b6-e5106f5201b2"
      },
      "source": [
        "\"\"\"list of student dictionary 3 students\"\"\"\n",
        "students=[{\"name\":\"Kavhein\",\"Subject\":\"maths\",\"marks\":\"99\"},     #0\n",
        "          {\"name\":\"Aadhitya\",\"Subject\":\"maths\",\"marks\":\"100\"},   #1\n",
        "          {\"name\":\"Aadit\",\"Subject\":\"maths\",\"marks\":\"98\"}]       #2\n",
        "print(students[2]['marks'])"
      ],
      "execution_count": null,
      "outputs": [
        {
          "output_type": "stream",
          "text": [
            "98\n"
          ],
          "name": "stdout"
        }
      ]
    },
    {
      "cell_type": "code",
      "metadata": {
        "id": "Zgvsyw7_H7ur",
        "colab": {
          "base_uri": "https://localhost:8080/"
        },
        "outputId": "779bfcc3-2ef8-41ea-ccda-7af3672537ed"
      },
      "source": [
        "a=int(input(\"Enter your number:\"))\n",
        "if (a%3==0):\n",
        "    print(str(a)+ \" is divisible by 3\")\n",
        "else:\n",
        "    print(str(a)+ \" is not divisible by 3\")"
      ],
      "execution_count": null,
      "outputs": [
        {
          "output_type": "stream",
          "text": [
            "Enter your number:3\n",
            "3 is divisible by 3\n"
          ],
          "name": "stdout"
        }
      ]
    },
    {
      "cell_type": "code",
      "metadata": {
        "colab": {
          "base_uri": "https://localhost:8080/"
        },
        "id": "FxKaUrdQVgdE",
        "outputId": "fdfe8595-f3cc-408f-8a4f-e415b0501593"
      },
      "source": [
        "#first program (1st)\n",
        "a=float(input(\"Enter a number: \"))  #1\n",
        "b=float(input(\"Enter a number: \"))  #2\n",
        "c=str(input(\"Enter operation: \"))   #3\n",
        "if (c== '+'):                       #4\n",
        "   print(\"Answer is \",a+b)          #5\n",
        "elif (c=='-'):                      #6\n",
        "   print(\"Answer is \",a-b)          #7\n",
        "elif (c=='*'):                      #8\n",
        "   print(\"Answer is \",a*b)          #9\n",
        "elif (c=='/'):                      #10\n",
        "   print(\"Answer is: \",a/b)         #11\n",
        "else:                               #12\n",
        "   print(\"Enter valid operation\")   #13"
      ],
      "execution_count": null,
      "outputs": [
        {
          "output_type": "stream",
          "text": [
            "Enter a number: 7\n",
            "Enter a number: 8\n",
            "Enter operation: +\n",
            "Answer is  15.0\n"
          ],
          "name": "stdout"
        }
      ]
    },
    {
      "cell_type": "code",
      "metadata": {
        "colab": {
          "base_uri": "https://localhost:8080/"
        },
        "id": "ibh_427C6B74",
        "outputId": "a627bf8a-3afe-4cf3-9d7f-397625c58916"
      },
      "source": [
        "a=float(input(\"Enter your first number \"))\n",
        "b=float(input(\"Enter your second number \"))\n",
        "c=str(input(\"Enter a operation between +,-,*,/\"))\n",
        "if (c== '+'):\n",
        "  print(\"Answer is \",a+b)\n",
        "elif (c== '-'):\n",
        "  print(\"Answer is \",a-b)\n",
        "elif (c== '*'):\n",
        "  print(\"Answer is \",a*b)\n",
        "elif (c== '/'):\n",
        "  print(\"Answer is \",a/b)\n",
        "else: \n",
        "  print(\"Enter a valid operation\")"
      ],
      "execution_count": null,
      "outputs": [
        {
          "output_type": "stream",
          "text": [
            "Enter your first number 2\n",
            "Enter your second number 2\n",
            "Enter a operation between +,-,*,/\n",
            "Enter a valid operation\n"
          ],
          "name": "stdout"
        }
      ]
    },
    {
      "cell_type": "code",
      "metadata": {
        "colab": {
          "base_uri": "https://localhost:8080/"
        },
        "id": "nBX8wiew659J",
        "outputId": "a447c9a0-7a07-4d6d-db14-84074478c3db"
      },
      "source": [
        "    a = float(input(\"Enter the first term : \"))\n",
        "    b = float(input(\"Enter the difference : \"))\n",
        "for i in range(1,11):\n",
        "   print(a+(i-1)*b)\n",
        "   #AP\n",
        "#second program (2nd)"
      ],
      "execution_count": null,
      "outputs": [
        {
          "output_type": "stream",
          "text": [
            "Enter the first term : 3\n",
            "Enter the difference : 3\n",
            "3.0\n",
            "6.0\n",
            "9.0\n",
            "12.0\n",
            "15.0\n",
            "18.0\n",
            "21.0\n",
            "24.0\n",
            "27.0\n",
            "30.0\n"
          ],
          "name": "stdout"
        }
      ]
    },
    {
      "cell_type": "code",
      "metadata": {
        "colab": {
          "base_uri": "https://localhost:8080/"
        },
        "id": "goWRNXatAYom",
        "outputId": "ecfa8cd8-d39b-4e1e-b092-d2c66562f38b"
      },
      "source": [
        "    a =int (input(\"Enter first term: \"))\n",
        "    d = int (input(\"Enter common difference: \"))\n",
        "for n in range(1,11):\n",
        "   print(\"The AP is\",a+(n-1)*d)"
      ],
      "execution_count": null,
      "outputs": [
        {
          "output_type": "stream",
          "text": [
            "Enter first term: 3\n",
            "Enter common difference: 3\n",
            "The AP is 3\n",
            "The AP is 6\n",
            "The AP is 9\n",
            "The AP is 12\n",
            "The AP is 15\n",
            "The AP is 18\n",
            "The AP is 21\n",
            "The AP is 24\n",
            "The AP is 27\n",
            "The AP is 30\n"
          ],
          "name": "stdout"
        }
      ]
    },
    {
      "cell_type": "code",
      "metadata": {
        "colab": {
          "base_uri": "https://localhost:8080/"
        },
        "id": "NeCRGmfgUf29",
        "outputId": "81fd1b03-3572-4284-95f6-296da06ce400"
      },
      "source": [
        "students=[{\"Name\":\"Kavhein\",\"Date of birth\":\"27/02/06\",\"Class\":\"11th\"},   \n",
        "          {\"Name\":\"Dharshana\",\"Date of birth\":\"21/07/2005\",\"Class\":\"11th\"},   \n",
        "          {\"Name\":\"Pranav\",\"Date of birth\":\"29/09/2010\",\"Class\":\"7th\"}] \n",
        "print(students[0]['Name'])\n"
      ],
      "execution_count": null,
      "outputs": [
        {
          "output_type": "stream",
          "text": [
            "Kavhein\n"
          ],
          "name": "stdout"
        }
      ]
    },
    {
      "cell_type": "code",
      "metadata": {
        "colab": {
          "base_uri": "https://localhost:8080/"
        },
        "id": "IXqXlN9oWeAI",
        "outputId": "3d005d5c-1b44-4f34-9b43-477f11593389"
      },
      "source": [
        "#third program (3rd)\n",
        "a=str(input(\"• Enter the name of 1st student : \"))\n",
        "b=str(input(\"• Enter the Date of birth of 1st student : \"))\n",
        "c=str(input(\"• Enter the class of 1st student : \" ))\n",
        "print(\"Datebase for 1st student has been successfully created !!\")\n",
        "\n",
        "a=str(input(\"• Enter the name of 2nd student : \"))\n",
        "b=str(input(\"• Enter the Date of birth of 2nd student : \"))\n",
        "c=str(input(\"• Enter the class of 2nd student : \" ))\n",
        "print(\"Datebase for 2nd student has been successfully created !!\")\n",
        "\n",
        "a=str(input(\"• Enter the name of 3rd student : \"))\n",
        "b=str(input(\"• Enter the Date of birth of 3rd student : \"))\n",
        "c=str(input(\"• Enter the class of 3rd student : \" ))\n",
        "print(\"Datebase for 3rd student has been successfully created !!\")\n",
        "\n",
        "a=str(input(\"• Enter the name of 4th student : \"))\n",
        "b=str(input(\"• Enter the Date of birth of 4th student : \"))\n",
        "c=str(input(\"• Enter the class of 4th student : \" ))\n",
        "print(\"Datebase for 4th student has been successfully created !!\")\n",
        "\n"
      ],
      "execution_count": null,
      "outputs": [
        {
          "output_type": "stream",
          "text": [
            "Enter the name of 1st student : Kavhein\n",
            "Enter the Date of birth of 1st student : 27/02/2006\n",
            "Enter the class of 1st student : XI\n",
            "Datebase for 1st student is created successfully!!\n",
            "Enter the name of 2nd student : Dharshana\n",
            "Enter the Date of birth of 2nd student : 21/07/2005\n",
            "Enter the class of 2nd student : XI\n",
            "Datebase for 2nd student is created successfully!!\n",
            "Enter the name of 3rd student : Pranav\n",
            "Enter the Date of birth of 3rd student : 29/09/2010\n",
            "Enter the class of 3rd student : VII\n",
            "Datebase for 3rd student is created successfully!!\n",
            "Enter the name of 4th student : Aadhitya\n",
            "Enter the Date of birth of 4th student : 15/09/2005\n",
            "Enter the class of 4th student : XI\n",
            "Datebase for 4th student is created successfully!!\n"
          ],
          "name": "stdout"
        }
      ]
    }
  ]
}