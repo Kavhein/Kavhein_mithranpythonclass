{
  "nbformat": 4,
  "nbformat_minor": 0,
  "metadata": {
    "colab": {
      "name": "Unvalkai_gaali.ipynb",
      "provenance": [],
      "authorship_tag": "ABX9TyMRfEoJbeeFUGQmczgZbpzb",
      "include_colab_link": true
    },
    "kernelspec": {
      "name": "python3",
      "display_name": "Python 3"
    },
    "language_info": {
      "name": "python"
    }
  },
  "cells": [
    {
      "cell_type": "markdown",
      "metadata": {
        "id": "view-in-github",
        "colab_type": "text"
      },
      "source": [
        "<a href=\"https://colab.research.google.com/github/Kavhein/Kavhein_mithranpythonclass/blob/main/Unvalkai_gaali.ipynb\" target=\"_parent\"><img src=\"https://colab.research.google.com/assets/colab-badge.svg\" alt=\"Open In Colab\"/></a>"
      ]
    },
    {
      "cell_type": "code",
      "metadata": {
        "colab": {
          "base_uri": "https://localhost:8080/"
        },
        "id": "N2RZ0OunqrQ3",
        "outputId": "4afddb5f-ad6d-4cf6-a811-a6e24f004779"
      },
      "source": [
        "print(\"Make your own lyrics\")\n",
        "Greeting = input(\"How do you call your friend?: \")\n",
        "Food = input(\"What is your favourite food?: \")\n",
        "Rate = input(\"How good is your song?: \")\n",
        "print(Greeting + \"boys!\")\n",
        "print(\"I am singing song\")\n",
        "print(Food + \" song \")\n",
        "print(Rate + \" song \")\n",
        "print(\"Why this kolaveri kolaveri kolaveri di\")\n",
        "print(\"Why this kolaveri kolaveri kolaveri di\")"
      ],
      "execution_count": 4,
      "outputs": [
        {
          "output_type": "stream",
          "text": [
            "Make your own lyrics\n",
            "How do you call your friend?: dei\n",
            "What is your favourite food?: soup\n",
            "How good is your song?: ep\n",
            "deiboys!\n",
            "I am singing song\n",
            "soupsong\n",
            "ep song \n",
            "Why this kolaveri kolaveri kolaveri di\n",
            "Why this kolaveri kolaveri kolaveri di\n"
          ],
          "name": "stdout"
        }
      ]
    }
  ]
}