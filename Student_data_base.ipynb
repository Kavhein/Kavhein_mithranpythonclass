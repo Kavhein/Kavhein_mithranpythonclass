{
  "nbformat": 4,
  "nbformat_minor": 0,
  "metadata": {
    "colab": {
      "name": "Student_data_base.ipynb",
      "provenance": [],
      "authorship_tag": "ABX9TyOgoODrWLTHFP1p9Ssj1eyX",
      "include_colab_link": true
    },
    "kernelspec": {
      "name": "python3",
      "display_name": "Python 3"
    },
    "language_info": {
      "name": "python"
    }
  },
  "cells": [
    {
      "cell_type": "markdown",
      "metadata": {
        "id": "view-in-github",
        "colab_type": "text"
      },
      "source": [
        "<a href=\"https://colab.research.google.com/github/Kavhein/Kavhein_mithranpythonclass/blob/main/Student_data_base.ipynb\" target=\"_parent\"><img src=\"https://colab.research.google.com/assets/colab-badge.svg\" alt=\"Open In Colab\"/></a>"
      ]
    },
    {
      "cell_type": "code",
      "metadata": {
        "id": "qWlFFiDl2hTb"
      },
      "source": [
        "#Prepare a list of students\n",
        "#Add a new student to the list at the end\n",
        "#Make a copy of this list\n",
        "#Number of elements in the list\n",
        "#Join two lists\n",
        "#Insert an element at specific position\n",
        "#Remove an element from the specific position\n",
        "#Sorting\n",
        "#Reverse sorting\n",
        "#user input\n",
        "\n",
        "list1 = [\"jonathan\",\"jack\",\"max\",\"brock\",\"harry\",\"thomas\",]\n",
        "a = str(input(\"Enter the name of the student you'd like to add : \"))\n",
        "list1.append(a)\n",
        "print(list1)\n",
        "\n",
        "k = len(list1)\n",
        "print(\"Total number of students in list1 :\",k)\n",
        "\n",
        "list2 = [\"aaron\",\"jake\",\"ben\",\"henry\",\"peter\",\"zen\",]\n",
        "print(list2)\n",
        "b = list1 + list2\n",
        "print(\"Merging list1 and list2 : \",b)\n",
        "\n",
        "Number = int(input(\"Enter where you wanna add the new student to : \"))\n",
        "Student = str(input(\"Enter the name of the student you'd like to insert : \"))\n",
        "b.insert(Number,Student)\n",
        "print(b)\n",
        "\n",
        "student = str(input(\"Enter the name of the student you'd like to remove : \"))\n",
        "b.remove(student)\n",
        "print(b)\n",
        "\n",
        "b.sort()\n",
        "print(b)\n",
        "\n",
        "b.reverse()\n",
        "print(b)"
      ],
      "execution_count": null,
      "outputs": []
    }
  ]
}